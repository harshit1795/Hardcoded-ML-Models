{
 "cells": [
  {
   "cell_type": "markdown",
   "metadata": {},
   "source": [
    "## QUESTION 4 & 5"
   ]
  },
  {
   "cell_type": "code",
   "execution_count": 20,
   "metadata": {
    "scrolled": false
   },
   "outputs": [
    {
     "name": "stdout",
     "output_type": "stream",
     "text": [
      "[22.1 10.4  9.3 18.5 12.9  7.2 11.8 13.2  4.8 10.6  8.6 17.4  9.2  9.7\n",
      " 19.  22.4 12.5 24.4 11.3 14.6 18.  12.5  5.6 15.5  9.7 12.  15.  15.9\n",
      " 18.9 10.5 21.4 11.9  9.6 17.4  9.5 12.8 25.4 14.7 10.1 21.5 16.6 17.1\n",
      " 20.7 12.9  8.5 14.9 10.6 23.2 14.8  9.7 11.4 10.7 22.6 21.2 20.2 23.7\n",
      "  5.5 13.2 23.8 18.4  8.1 24.2 15.7 14.  18.   9.3  9.5 13.4 18.9 22.3\n",
      " 18.3 12.4  8.8 11.  17.   8.7  6.9 14.2  5.3 11.  11.8 12.3 11.3 13.6\n",
      " 21.7 15.2 12.  16.  12.9 16.7 11.2  7.3 19.4 22.2 11.5 16.9 11.7 15.5\n",
      " 25.4 17.2 11.7 23.8 14.8 14.7 20.7 19.2  7.2  8.7  5.3 19.8 13.4 21.8\n",
      " 14.1 15.9 14.6 12.6 12.2  9.4 15.9  6.6 15.5  7.  11.6 15.2 19.7 10.6\n",
      "  6.6  8.8 24.7  9.7  1.6 12.7  5.7 19.6 10.8 11.6  9.5 20.8  9.6 20.7\n",
      " 10.9 19.2 20.1 10.4 11.4 10.3 13.2 25.4 10.9 10.1 16.1 11.6 16.6 19.\n",
      " 15.6  3.2 15.3 10.1  7.3 12.9 14.4 13.3 14.9 18.  11.9 11.9  8.  12.2\n",
      " 17.1 15.   8.4 14.5  7.6 11.7 11.5 27.  20.2 11.7 11.8 12.6 10.5 12.2\n",
      "  8.7 26.2 17.6 22.6 10.3 17.3 15.9  6.7 10.8  9.9  5.9 19.6 17.3  7.6\n",
      "  9.7 12.8 25.5 13.4]\n"
     ]
    }
   ],
   "source": [
    "import pandas as pd\n",
    "data = pd.read_csv('Advertizing.csv')\n",
    "\n",
    "a=np.ones((200,4))\n",
    "\n",
    "a[:,1]=data['TV']\n",
    "a[:,2]=data['Radio']\n",
    "a[:,3]=data['Newspaper']\n",
    "\n",
    "y=np.array(data['Sales'])\n",
    "y_mtr=np.matrix(y)\n",
    "\n",
    "print(y)"
   ]
  },
  {
   "cell_type": "code",
   "execution_count": 19,
   "metadata": {},
   "outputs": [],
   "source": [
    "from numpy.linalg import inv\n",
    "a_mtr=np.matrix(a)\n",
    "a_tr=np.transpose(a_mtr)\n",
    "a_inv=a_mtr.I"
   ]
  },
  {
   "cell_type": "code",
   "execution_count": null,
   "metadata": {},
   "outputs": [],
   "source": [
    "a_mtr.shape"
   ]
  },
  {
   "cell_type": "markdown",
   "metadata": {},
   "source": [
    "## Question 4"
   ]
  },
  {
   "cell_type": "code",
   "execution_count": 39,
   "metadata": {},
   "outputs": [
    {
     "data": {
      "text/plain": [
       "('The value for minima:', matrix([[ 2.93888937e+00],\n",
       "         [ 4.57646455e-02],\n",
       "         [ 1.88530017e-01],\n",
       "         [-1.03749304e-03]]))"
      ]
     },
     "execution_count": 39,
     "metadata": {},
     "output_type": "execute_result"
    }
   ],
   "source": [
    "def pseudossr1(a_mtr, y_mtr):\n",
    "    first=a_mtr.T.dot(a_mtr)\n",
    "    second=first.I.dot(a_mtr.T)\n",
    "    third=second.dot(y_mtr.T)\n",
    "    \n",
    "    return(\"The value for minima:\",third)  \n",
    "pseudossr1(a_mtr, y_mtr)\n"
   ]
  },
  {
   "cell_type": "code",
   "execution_count": 51,
   "metadata": {},
   "outputs": [
    {
     "ename": "NameError",
     "evalue": "name 'array' is not defined",
     "output_type": "error",
     "traceback": [
      "\u001b[0;31m---------------------------------------------------------------------------\u001b[0m",
      "\u001b[0;31mNameError\u001b[0m                                 Traceback (most recent call last)",
      "\u001b[0;32m<ipython-input-51-cc9db7d7d566>\u001b[0m in \u001b[0;36m<module>\u001b[0;34m\u001b[0m\n\u001b[1;32m      3\u001b[0m \u001b[0;32mimport\u001b[0m \u001b[0mmatplotlib\u001b[0m\u001b[0;34m.\u001b[0m\u001b[0mpyplot\u001b[0m \u001b[0;32mas\u001b[0m \u001b[0mplt\u001b[0m\u001b[0;34m\u001b[0m\u001b[0;34m\u001b[0m\u001b[0m\n\u001b[1;32m      4\u001b[0m \u001b[0;34m\u001b[0m\u001b[0m\n\u001b[0;32m----> 5\u001b[0;31m \u001b[0mA\u001b[0m \u001b[0;34m=\u001b[0m \u001b[0marray\u001b[0m\u001b[0;34m(\u001b[0m\u001b[0;34m[\u001b[0m\u001b[0;34m[\u001b[0m\u001b[0;36m1\u001b[0m\u001b[0;34m,\u001b[0m\u001b[0;36m0.5\u001b[0m\u001b[0;34m,\u001b[0m\u001b[0;36m0.33\u001b[0m\u001b[0;34m]\u001b[0m\u001b[0;34m,\u001b[0m\u001b[0;34m[\u001b[0m\u001b[0;36m0.5\u001b[0m\u001b[0;34m,\u001b[0m\u001b[0;36m1\u001b[0m\u001b[0;34m,\u001b[0m\u001b[0;36m0.5\u001b[0m\u001b[0;34m]\u001b[0m\u001b[0;34m,\u001b[0m\u001b[0;34m[\u001b[0m\u001b[0;36m0.33\u001b[0m\u001b[0;34m,\u001b[0m\u001b[0;36m0.5\u001b[0m\u001b[0;34m,\u001b[0m\u001b[0;36m1\u001b[0m\u001b[0;34m]\u001b[0m\u001b[0;34m]\u001b[0m\u001b[0;34m)\u001b[0m\u001b[0;34m\u001b[0m\u001b[0;34m\u001b[0m\u001b[0m\n\u001b[0m\u001b[1;32m      6\u001b[0m \u001b[0mw1\u001b[0m \u001b[0;34m=\u001b[0m \u001b[0marray\u001b[0m\u001b[0;34m(\u001b[0m\u001b[0;34m[\u001b[0m\u001b[0;34m[\u001b[0m\u001b[0;36m0\u001b[0m\u001b[0;34m,\u001b[0m\u001b[0;36m0\u001b[0m\u001b[0;34m,\u001b[0m\u001b[0;36m0\u001b[0m\u001b[0;34m,\u001b[0m\u001b[0;36m0\u001b[0m\u001b[0;34m]\u001b[0m\u001b[0;34m]\u001b[0m\u001b[0;34m)\u001b[0m\u001b[0;34m.\u001b[0m\u001b[0mT\u001b[0m\u001b[0;34m\u001b[0m\u001b[0;34m\u001b[0m\u001b[0m\n\u001b[1;32m      7\u001b[0m \u001b[0mw\u001b[0m\u001b[0;34m=\u001b[0m\u001b[0my_mtr\u001b[0m\u001b[0;34m=\u001b[0m\u001b[0mnp\u001b[0m\u001b[0;34m.\u001b[0m\u001b[0mmatrix\u001b[0m\u001b[0;34m(\u001b[0m\u001b[0mw1\u001b[0m\u001b[0;34m)\u001b[0m\u001b[0;34m\u001b[0m\u001b[0;34m\u001b[0m\u001b[0m\n",
      "\u001b[0;31mNameError\u001b[0m: name 'array' is not defined"
     ]
    }
   ],
   "source": [
    "import math\n",
    "import numpy as np\n",
    "import matplotlib.pyplot as plt\n",
    "\n",
    "A = array([[1,0.5,0.33],[0.5,1,0.5],[0.33,0.5,1]])\n",
    "w1 = array([[0,0,0,0]]).T\n",
    "w=y_mtr=np.matrix(w1)\n",
    "r = array([[1,1,1]]).T\n",
    "d = 3\n",
    "\n",
    "iter=0\n",
    "iter_max=10000\n",
    "alpha=0.01\n",
    "epsilon = 0.001\n",
    "\n",
    "def dw(t):\n",
    "    c=([[0],[0],[0],[0]])\n",
    "    for i in range(0,4):\n",
    "        if(t[i][0]>=0):\n",
    "            c[i][0]=1  \n",
    "        else:\n",
    "            c[i][0]=-1\n",
    "    return c\n",
    "\n",
    "def gradf(w):\n",
    "    return A.dot(w)+r\n",
    "def hessf(v):\n",
    "    return A\n",
    "\n",
    "def gradient_descent(w, iter, alpha, epsilon):\n",
    "    while(iter<iter_max) and (linalg.norm(gradf(w),2)>epsilon):\n",
    "        w=w-alpha*gradf(w)\n",
    "        iter +=1\n",
    "    return iter,w\n",
    "\n",
    "gradient_descent(w, iter, alpha, epsilon)\n",
    "                     "
   ]
  },
  {
   "cell_type": "code",
   "execution_count": 45,
   "metadata": {},
   "outputs": [
    {
     "ename": "NameError",
     "evalue": "name 'array' is not defined",
     "output_type": "error",
     "traceback": [
      "\u001b[0;31m---------------------------------------------------------------------------\u001b[0m",
      "\u001b[0;31mNameError\u001b[0m                                 Traceback (most recent call last)",
      "\u001b[0;32m<ipython-input-45-8ca5559dcc89>\u001b[0m in \u001b[0;36m<module>\u001b[0;34m\u001b[0m\n\u001b[0;32m----> 1\u001b[0;31m \u001b[0mA\u001b[0m \u001b[0;34m=\u001b[0m \u001b[0marray\u001b[0m\u001b[0;34m(\u001b[0m\u001b[0;34m[\u001b[0m\u001b[0;34m[\u001b[0m\u001b[0;36m1\u001b[0m\u001b[0;34m,\u001b[0m\u001b[0;36m0.5\u001b[0m\u001b[0;34m,\u001b[0m\u001b[0;36m0.33\u001b[0m\u001b[0;34m]\u001b[0m\u001b[0;34m,\u001b[0m\u001b[0;34m[\u001b[0m\u001b[0;36m0.5\u001b[0m\u001b[0;34m,\u001b[0m\u001b[0;36m1\u001b[0m\u001b[0;34m,\u001b[0m\u001b[0;36m0.5\u001b[0m\u001b[0;34m]\u001b[0m\u001b[0;34m,\u001b[0m\u001b[0;34m[\u001b[0m\u001b[0;36m0.33\u001b[0m\u001b[0;34m,\u001b[0m\u001b[0;36m0.5\u001b[0m\u001b[0;34m,\u001b[0m\u001b[0;36m1\u001b[0m\u001b[0;34m]\u001b[0m\u001b[0;34m]\u001b[0m\u001b[0;34m)\u001b[0m\u001b[0;34m\u001b[0m\u001b[0;34m\u001b[0m\u001b[0m\n\u001b[0m\u001b[1;32m      2\u001b[0m \u001b[0mw\u001b[0m \u001b[0;34m=\u001b[0m \u001b[0marray\u001b[0m\u001b[0;34m(\u001b[0m\u001b[0;34m[\u001b[0m\u001b[0;34m[\u001b[0m\u001b[0;36m2\u001b[0m\u001b[0;34m,\u001b[0m\u001b[0;36m3\u001b[0m\u001b[0;34m,\u001b[0m\u001b[0;36m1\u001b[0m\u001b[0;34m]\u001b[0m\u001b[0;34m]\u001b[0m\u001b[0;34m)\u001b[0m\u001b[0;34m.\u001b[0m\u001b[0mT\u001b[0m\u001b[0;34m\u001b[0m\u001b[0;34m\u001b[0m\u001b[0m\n\u001b[1;32m      3\u001b[0m \u001b[0mr\u001b[0m \u001b[0;34m=\u001b[0m \u001b[0marray\u001b[0m\u001b[0;34m(\u001b[0m\u001b[0;34m[\u001b[0m\u001b[0;34m[\u001b[0m\u001b[0;36m1\u001b[0m\u001b[0;34m,\u001b[0m\u001b[0;36m1\u001b[0m\u001b[0;34m,\u001b[0m\u001b[0;36m1\u001b[0m\u001b[0;34m]\u001b[0m\u001b[0;34m]\u001b[0m\u001b[0;34m)\u001b[0m\u001b[0;34m.\u001b[0m\u001b[0mT\u001b[0m\u001b[0;34m\u001b[0m\u001b[0;34m\u001b[0m\u001b[0m\n\u001b[1;32m      4\u001b[0m \u001b[0md\u001b[0m \u001b[0;34m=\u001b[0m \u001b[0;36m3\u001b[0m\u001b[0;34m\u001b[0m\u001b[0;34m\u001b[0m\u001b[0m\n\u001b[1;32m      5\u001b[0m \u001b[0;34m\u001b[0m\u001b[0m\n",
      "\u001b[0;31mNameError\u001b[0m: name 'array' is not defined"
     ]
    }
   ],
   "source": [
    "A = array([[1,0.5,0.33],[0.5,1,0.5],[0.33,0.5,1]])\n",
    "w = array([[2,3,1]]).T\n",
    "r = array([[1,1,1]]).T\n",
    "d = 3\n",
    "\n",
    "iter=0\n",
    "iter_max=10000\n",
    "alpha=0.01\n",
    "epsilon = 0.001\n",
    "\n",
    "def dw(t):\n",
    "    c=([[0],[0],[0],[0]])\n",
    "    for i in range(0,4):\n",
    "        if(t[i][0]>=0):\n",
    "            c[i][0]=1  \n",
    "        else:\n",
    "    return c\n",
    "\n",
    "def gradf(x):\n",
    "    return a.dot(w)+r\n",
    "def hessf(v):\n",
    "    return a\n",
    "\n",
    "def gradient_descent(w, iter, alpha, epsilon):\n",
    "    while(iter<iter_max) and (linalg.norm(gradf(w),2)>epsilon):\n",
    "        w=w-alpha*gradf(w)\n",
    "        iter +=1\n",
    "    return iter,w\n",
    "\n",
    "gradient_descent(w, iter, alpha, epsilon)"
   ]
  },
  {
   "cell_type": "code",
   "execution_count": null,
   "metadata": {},
   "outputs": [],
   "source": []
  },
  {
   "cell_type": "code",
   "execution_count": 40,
   "metadata": {},
   "outputs": [
    {
     "data": {
      "text/plain": [
       "numpy.ndarray"
      ]
     },
     "execution_count": 40,
     "metadata": {},
     "output_type": "execute_result"
    }
   ],
   "source": [
    "type(a)"
   ]
  },
  {
   "cell_type": "markdown",
   "metadata": {},
   "source": [
    "## Question 5 (a) - Lasso\n"
   ]
  },
  {
   "cell_type": "code",
   "execution_count": 41,
   "metadata": {},
   "outputs": [
    {
     "data": {
      "text/plain": [
       "numpy.matrixlib.defmatrix.matrix"
      ]
     },
     "execution_count": 41,
     "metadata": {},
     "output_type": "execute_result"
    }
   ],
   "source": [
    "type(a_mtr)"
   ]
  },
  {
   "cell_type": "code",
   "execution_count": 47,
   "metadata": {},
   "outputs": [
    {
     "name": "stdout",
     "output_type": "stream",
     "text": [
      "('The value for minima:', matrix([[0.00092472],\n",
      "        [0.07488171],\n",
      "        [0.03321824],\n",
      "        [0.03043503]]), 'and iterations:', 9000, 'iterations')\n"
     ]
    }
   ],
   "source": [
    "def lasso(x):\n",
    "    return (2*(np.dot(np.dot(a.T,a),x)-np.dot(a.T,y_mtr.T))) + np.dot(0.01,mxz(x))\n",
    "\n",
    "def mxz(t):\n",
    "    c=([[0],[0],[0],[0]])\n",
    "    for i in range(0,4):\n",
    "        if(t[i][0]>=0):\n",
    "            c[i][0]=1  \n",
    "        else:\n",
    "            c[i][0]=-1\n",
    "    return c\n",
    "\n",
    "epsilon = 0.01\n",
    "alpha = 0.0000000001\n",
    "iter1 = 1\n",
    "int_max = 9000\n",
    "\n",
    "w = np.matrix([[0],[0],[0],[0]])\n",
    "\n",
    "def gradient_descent(w,epsilon,alpha,iter1):\n",
    "    while (iter1<int_max) and (np.linalg.norm(lasso(w),2)>epsilon):\n",
    "        iter1 = iter1 + 1\n",
    "        w = w - alpha*lasso(w)\n",
    "    return(\"The value for minima:\",w,\"and iterations:\",iter1,\"iterations\")  \n",
    "            \n",
    "print(gradient_descent(w,epsilon,alpha,iter1))"
   ]
  },
  {
   "cell_type": "markdown",
   "metadata": {},
   "source": [
    "## Question 5 (b) - Ridge\n",
    "\n"
   ]
  },
  {
   "cell_type": "code",
   "execution_count": 48,
   "metadata": {},
   "outputs": [
    {
     "name": "stdout",
     "output_type": "stream",
     "text": [
      "('The value for minima:', matrix([[0.0025464 ],\n",
      "        [0.0617952 ],\n",
      "        [0.10126167],\n",
      "        [0.05906579]]), 'and iterations:', 50000, 'iterations')\n"
     ]
    }
   ],
   "source": [
    "def ridge(x):\n",
    "    return (2*(np.dot(np.dot(a.T,a),x)-np.dot(a.T,y_mtr.T))) + 0.01 * 2 * (x)\n",
    "\n",
    "iter2 = 1\n",
    "itr_max = 50000\n",
    "epsilon = 0.01\n",
    "alpha = 0.0000000001\n",
    "w = np.matrix([[0],[0],[0],[0]])\n",
    "\n",
    "def gradient_descent(w,epsilon,alpha,iter2):\n",
    "    while (iter2<itr_max) and (np.linalg.norm(ridge(w),2)>epsilon):\n",
    "        w = w - alpha*ridge(w)\n",
    "        iter2 = iter2 + 1        \n",
    "    return(\"The value for minima:\",w,\"and iterations:\",iter2,\"iterations\")  \n",
    "            \n",
    "print(gradient_descent(w,epsilon,alpha,iter2))\n"
   ]
  },
  {
   "cell_type": "markdown",
   "metadata": {},
   "source": [
    "## Question 5 (c) - Elastic Net\n"
   ]
  },
  {
   "cell_type": "code",
   "execution_count": 49,
   "metadata": {},
   "outputs": [
    {
     "name": "stdout",
     "output_type": "stream",
     "text": [
      "('The value for minima:', matrix([[0.000183  ],\n",
      "        [0.03054144],\n",
      "        [0.00493447],\n",
      "        [0.00594766]]), 'and iterations:', 40000, 'iterations')\n"
     ]
    }
   ],
   "source": [
    "def mxg(t):\n",
    "    c=([[0],[0],[0],[0]])\n",
    "    for i in range(0,4):\n",
    "        if(t[i][0]>=0):\n",
    "            c[i][0]=1  \n",
    "        else:\n",
    "            c[i][0]=-1\n",
    "    return c\n",
    "\n",
    "\n",
    "def elastic_net(x):\n",
    "    return (2*(np.dot(np.dot(a.T,a),x)-np.dot(a.T,y_mtr.T))) + np.dot(0.01,mxg(x)) + (1 - 0.01) * 2 * (x)\n",
    "\n",
    "iter3 = 1\n",
    "int_max = 40000\n",
    "epsilon = 0.1\n",
    "alpha = 0.000000000001\n",
    "w = np.matrix([[0],[0],[0],[0]])\n",
    "\n",
    "def gradient_descent(w,epsilon,alpha,iter3):\n",
    "    while (iter3<int_max) and (np.linalg.norm(elastic_net(w),2)>epsilon):\n",
    "        w = w - alpha*elastic_net(w)\n",
    "        iter3 = iter3 + 1        \n",
    "    return(\"The value for minima:\",w,\"and iterations:\",iter3,\"iterations\")  \n",
    "            \n",
    "print(gradient_descent(w,epsilon,alpha,iter3))\n"
   ]
  },
  {
   "cell_type": "code",
   "execution_count": null,
   "metadata": {},
   "outputs": [],
   "source": []
  }
 ],
 "metadata": {
  "kernelspec": {
   "display_name": "Python 3",
   "language": "python",
   "name": "python3"
  },
  "language_info": {
   "codemirror_mode": {
    "name": "ipython",
    "version": 3
   },
   "file_extension": ".py",
   "mimetype": "text/x-python",
   "name": "python",
   "nbconvert_exporter": "python",
   "pygments_lexer": "ipython3",
   "version": "3.7.1"
  }
 },
 "nbformat": 4,
 "nbformat_minor": 2
}
