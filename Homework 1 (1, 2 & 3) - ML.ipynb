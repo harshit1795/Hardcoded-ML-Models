{
 "cells": [
  {
   "cell_type": "code",
   "execution_count": 171,
   "metadata": {},
   "outputs": [
    {
     "data": {
      "text/plain": [
       "[<matplotlib.lines.Line2D at 0x118fbcc50>]"
      ]
     },
     "execution_count": 171,
     "metadata": {},
     "output_type": "execute_result"
    },
    {
     "data": {
      "image/png": "[encoded data removed]",
      "text/plain": [
       "<Figure size 432x288 with 1 Axes>"
      ]
     },
     "metadata": {
      "needs_background": "light"
     },
     "output_type": "display_data"
    }
   ],
   "source": [
    "import math\n",
    "import numpy as np\n",
    "import matplotlib.pyplot as plt\n",
    "%matplotlib inline\n",
    "\n",
    "x=np.linspace(-7, 7, 100)\n",
    "y=5*x**3-10*x**2-10*x+4\n",
    "plt.plot(x,y)"
   ]
  },
  {
   "cell_type": "code",
   "execution_count": 172,
   "metadata": {},
   "outputs": [
    {
     "name": "stdout",
     "output_type": "stream",
     "text": [
      "The value of the derivative is -10.019985 \n",
      "\n",
      "The value of the function is 3.989990005 \n",
      "\n"
     ]
    },
    {
     "data": {
      "text/plain": [
       "(1, 0.001)"
      ]
     },
     "execution_count": 172,
     "metadata": {},
     "output_type": "execute_result"
    }
   ],
   "source": [
    "#Gradient Descent\n",
    "def f(x):\n",
    "    return 5*x**3-10*x**2-10*x+4\n",
    "def fprime(x):\n",
    "    return 15*x**2-20*x-10\n",
    "iter =0\n",
    "iter_max=50000\n",
    "alpha=0.0001\n",
    "x=0\n",
    "epsilon=0.0001\n",
    "\n",
    "def gradient_descent(x, iter, alpha, epsilon):\n",
    "    while (iter<iter_max) and (abs(fprime(x))>epsilon):\n",
    "        x=x-alpha*fprime(x)\n",
    "        #print(x)\n",
    "        iter+=1\n",
    "        print(\"The value of the derivative is\", fprime(x), \"\\n\")\n",
    "        print(\"The value of the function is\", f(x), \"\\n\")\n",
    "        return iter,x\n",
    "gradient_descent(x,iter,alpha,epsilon)"
   ]
  },
  {
   "cell_type": "markdown",
   "metadata": {},
   "source": [
    "## Question 2: Newton's Method"
   ]
  },
  {
   "cell_type": "code",
   "execution_count": 173,
   "metadata": {},
   "outputs": [
    {
     "name": "stdout",
     "output_type": "stream",
     "text": [
      "The value of the derivative is -2.4362745098039214 \n",
      "\n",
      "The value of the function is -0.14542483660130717 \n",
      "\n",
      "The value of the derivative is -4.15705049093427 \n",
      "\n",
      "The value of the function is 1.9596234111647253 \n",
      "\n",
      "The value of the derivative is -15.504657276074989 \n",
      "\n",
      "The value of the function is 30.049187975300256 \n",
      "\n",
      "The value of the derivative is -31.50432959006206 \n",
      "\n",
      "The value of the function is 124.06534786357906 \n",
      "\n",
      "The value of the derivative is -47.50432958899626 \n",
      "\n",
      "The value of the function is 282.08266621249817 \n",
      "\n",
      "The value of the derivative is -63.50432958899625 \n",
      "\n",
      "The value of the function is 504.0999845684831 \n",
      "\n"
     ]
    },
    {
     "data": {
      "text/plain": [
       "(6, -15.876082397249062)"
      ]
     },
     "execution_count": 173,
     "metadata": {},
     "output_type": "execute_result"
    }
   ],
   "source": [
    "#Newton's Method\n",
    "e=2.72\n",
    "def f(x):\n",
    "    return 2*x**2-e**(3*x)\n",
    "def fprime(x):\n",
    "    return 4*x-3*e**(3*x)\n",
    "def fdprime(x):\n",
    "    return x-9*e**(3*x)\n",
    "iter=0\n",
    "iter_max=6\n",
    "x=0\n",
    "epsilon=0.0001\n",
    "def newton_method(x, iter, epsilon):\n",
    "    while (iter<iter_max) and (abs(fprime(x))>epsilon):\n",
    "        x=x-(fprime(x)/fdprime(x))\n",
    "        iter+=1\n",
    "        print(\"The value of the derivative is\", fprime(x), \"\\n\")\n",
    "        print(\"The value of the function is\", f(x), \"\\n\")\n",
    "    return iter, x\n",
    "    \n",
    "newton_method(x, iter, epsilon)"
   ]
  },
  {
   "cell_type": "code",
   "execution_count": null,
   "metadata": {},
   "outputs": [],
   "source": []
  },
  {
   "cell_type": "markdown",
   "metadata": {},
   "source": [
    "## Question 3: (a) Gradient Descent with Vector Input"
   ]
  },
  {
   "cell_type": "code",
   "execution_count": 174,
   "metadata": {},
   "outputs": [],
   "source": [
    "from numpy import *"
   ]
  },
  {
   "cell_type": "code",
   "execution_count": 175,
   "metadata": {},
   "outputs": [],
   "source": [
    "A = array([[1,0.5,0.33],[0.5,1,0.5],[0.33,0.5,1]])\n",
    "w1 = array([[0,0,0,0]]).T\n",
    "\n",
    "r = array([[1,1,1]]).T\n",
    "d = 3"
   ]
  },
  {
   "cell_type": "code",
   "execution_count": 176,
   "metadata": {},
   "outputs": [],
   "source": [
    "iter=0\n",
    "iter_max=10000\n",
    "alpha=0.01\n",
    "epsilon = 0.001\n",
    "\n",
    "def gradf(w):\n",
    "    return A.dot(w)+r\n",
    "def hessf(v):\n",
    "    return A"
   ]
  },
  {
   "cell_type": "code",
   "execution_count": 177,
   "metadata": {},
   "outputs": [
    {
     "data": {
      "text/plain": [
       "(1337, array([[-0.60334529],\n",
       "        [-0.39581155],\n",
       "        [-0.60347018]]))"
      ]
     },
     "execution_count": 177,
     "metadata": {},
     "output_type": "execute_result"
    }
   ],
   "source": [
    "#Gradient Descent\n",
    "\n",
    "def gradient_descent(w, iter, alpha, epsilon):\n",
    "    while(iter<iter_max) and (linalg.norm(gradf(w),2)>epsilon):\n",
    "        w=w-alpha*gradf(w)\n",
    "        iter +=1\n",
    "    return iter,w\n",
    "\n",
    "gradient_descent(w, iter, alpha, epsilon)\n",
    "                     "
   ]
  },
  {
   "cell_type": "markdown",
   "metadata": {},
   "source": [
    "## Question 3: (b) Newton's Method with Vector Input"
   ]
  },
  {
   "cell_type": "code",
   "execution_count": 178,
   "metadata": {},
   "outputs": [
    {
     "data": {
      "text/plain": [
       "(1, array([[-0.60240964],\n",
       "        [-0.39759036],\n",
       "        [-0.60240964]]))"
      ]
     },
     "execution_count": 178,
     "metadata": {},
     "output_type": "execute_result"
    }
   ],
   "source": [
    "from numpy import *\n",
    "A = array([[1,0.5,0.33],[0.5,1,0.5],[0.33,0.5,1]])\n",
    "w = array([[-8,3,2]]).T\n",
    "r = array([[1,1,1]]).T\n",
    "d = 3\n",
    "\n",
    "iter=0\n",
    "iter_max=10000\n",
    "alpha=0.01\n",
    "epsilon = 0.001\n",
    "\n",
    "def gradf(w):\n",
    "    return A.dot(w)+r\n",
    "def hessf(v):\n",
    "    return A\n",
    "\n",
    "#Newton's Method\n",
    "def newton_method(w, iter,epsilon):\n",
    "    while(iter<iter_max) and (linalg.norm(gradf(w),2)>epsilon):\n",
    "        w=w-linalg.inv(hessf(w)).dot(gradf(w))\n",
    "        iter +=1\n",
    "    return iter,w\n",
    "\n",
    "newton_method(w, iter, epsilon)"
   ]
  }
 ],
 "metadata": {
  "kernelspec": {
   "display_name": "Python 3",
   "language": "python",
   "name": "python3"
  },
  "language_info": {
   "codemirror_mode": {
    "name": "ipython",
    "version": 3
   },
   "file_extension": ".py",
   "mimetype": "text/x-python",
   "name": "python",
   "nbconvert_exporter": "python",
   "pygments_lexer": "ipython3",
   "version": "3.7.1"
  }
 },
 "nbformat": 4,
 "nbformat_minor": 2
}
