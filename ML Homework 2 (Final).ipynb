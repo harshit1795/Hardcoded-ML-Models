{
 "cells": [
  {
   "cell_type": "markdown",
   "metadata": {},
   "source": [
    "# Question 1 : Perceptron Gradient"
   ]
  },
  {
   "cell_type": "code",
   "execution_count": 1,
   "metadata": {},
   "outputs": [],
   "source": [
    "import pandas as pd\n",
    "from numpy import *\n",
    "import numpy as np\n",
    "import matplotlib.pyplot as plt"
   ]
  },
  {
   "cell_type": "code",
   "execution_count": 2,
   "metadata": {},
   "outputs": [],
   "source": [
    "df=pd.read_csv('diabetes_PerceptronSVM.csv')"
   ]
  },
  {
   "cell_type": "code",
   "execution_count": 3,
   "metadata": {},
   "outputs": [
    {
     "data": {
      "text/html": [
       "<div>\n",
       "<style scoped>\n",
       "    .dataframe tbody tr th:only-of-type {\n",
       "        vertical-align: middle;\n",
       "    }\n",
       "\n",
       "    .dataframe tbody tr th {\n",
       "        vertical-align: top;\n",
       "    }\n",
       "\n",
       "    .dataframe thead th {\n",
       "        text-align: right;\n",
       "    }\n",
       "</style>\n",
       "<table border=\"1\" class=\"dataframe\">\n",
       "  <thead>\n",
       "    <tr style=\"text-align: right;\">\n",
       "      <th></th>\n",
       "      <th>Pregnancies</th>\n",
       "      <th>Glucose</th>\n",
       "      <th>BloodPressure</th>\n",
       "      <th>SkinThickness</th>\n",
       "      <th>Insulin</th>\n",
       "      <th>BMI</th>\n",
       "      <th>DiabetesPedigreeFunction</th>\n",
       "      <th>Age</th>\n",
       "      <th>Outcome</th>\n",
       "    </tr>\n",
       "  </thead>\n",
       "  <tbody>\n",
       "    <tr>\n",
       "      <th>0</th>\n",
       "      <td>6</td>\n",
       "      <td>148</td>\n",
       "      <td>72</td>\n",
       "      <td>35</td>\n",
       "      <td>0</td>\n",
       "      <td>33.6</td>\n",
       "      <td>0.627</td>\n",
       "      <td>50</td>\n",
       "      <td>1</td>\n",
       "    </tr>\n",
       "    <tr>\n",
       "      <th>1</th>\n",
       "      <td>1</td>\n",
       "      <td>85</td>\n",
       "      <td>66</td>\n",
       "      <td>29</td>\n",
       "      <td>0</td>\n",
       "      <td>26.6</td>\n",
       "      <td>0.351</td>\n",
       "      <td>31</td>\n",
       "      <td>0</td>\n",
       "    </tr>\n",
       "    <tr>\n",
       "      <th>2</th>\n",
       "      <td>8</td>\n",
       "      <td>183</td>\n",
       "      <td>64</td>\n",
       "      <td>0</td>\n",
       "      <td>0</td>\n",
       "      <td>23.3</td>\n",
       "      <td>0.672</td>\n",
       "      <td>32</td>\n",
       "      <td>1</td>\n",
       "    </tr>\n",
       "    <tr>\n",
       "      <th>3</th>\n",
       "      <td>1</td>\n",
       "      <td>89</td>\n",
       "      <td>66</td>\n",
       "      <td>23</td>\n",
       "      <td>94</td>\n",
       "      <td>28.1</td>\n",
       "      <td>0.167</td>\n",
       "      <td>21</td>\n",
       "      <td>0</td>\n",
       "    </tr>\n",
       "    <tr>\n",
       "      <th>4</th>\n",
       "      <td>0</td>\n",
       "      <td>137</td>\n",
       "      <td>40</td>\n",
       "      <td>35</td>\n",
       "      <td>168</td>\n",
       "      <td>43.1</td>\n",
       "      <td>2.288</td>\n",
       "      <td>33</td>\n",
       "      <td>1</td>\n",
       "    </tr>\n",
       "  </tbody>\n",
       "</table>\n",
       "</div>"
      ],
      "text/plain": [
       "   Pregnancies  Glucose  BloodPressure  SkinThickness  Insulin   BMI  \\\n",
       "0            6      148             72             35        0  33.6   \n",
       "1            1       85             66             29        0  26.6   \n",
       "2            8      183             64              0        0  23.3   \n",
       "3            1       89             66             23       94  28.1   \n",
       "4            0      137             40             35      168  43.1   \n",
       "\n",
       "   DiabetesPedigreeFunction  Age  Outcome  \n",
       "0                     0.627   50        1  \n",
       "1                     0.351   31        0  \n",
       "2                     0.672   32        1  \n",
       "3                     0.167   21        0  \n",
       "4                     2.288   33        1  "
      ]
     },
     "execution_count": 3,
     "metadata": {},
     "output_type": "execute_result"
    }
   ],
   "source": [
    "df.head()"
   ]
  },
  {
   "cell_type": "code",
   "execution_count": 4,
   "metadata": {},
   "outputs": [
    {
     "data": {
      "text/plain": [
       "(768, 9)"
      ]
     },
     "execution_count": 4,
     "metadata": {},
     "output_type": "execute_result"
    }
   ],
   "source": [
    "df.shape"
   ]
  },
  {
   "cell_type": "code",
   "execution_count": 5,
   "metadata": {},
   "outputs": [
    {
     "data": {
      "text/plain": [
       "Index(['Pregnancies', 'Glucose', 'BloodPressure', 'SkinThickness', 'Insulin',\n",
       "       'BMI', 'DiabetesPedigreeFunction', 'Age', 'Outcome'],\n",
       "      dtype='object')"
      ]
     },
     "execution_count": 5,
     "metadata": {},
     "output_type": "execute_result"
    }
   ],
   "source": [
    "df.columns"
   ]
  },
  {
   "cell_type": "code",
   "execution_count": 6,
   "metadata": {},
   "outputs": [],
   "source": [
    "names = df.columns.tolist()\n",
    "names_x = names[0:8]\n",
    "name_y = names[8]"
   ]
  },
  {
   "cell_type": "code",
   "execution_count": 7,
   "metadata": {},
   "outputs": [],
   "source": [
    "X_df = df[['Pregnancies', 'Glucose', 'BloodPressure', 'SkinThickness', 'Insulin',\n",
    "       'BMI', 'DiabetesPedigreeFunction', 'Age',]]\n",
    "X1=np.array(X_df)\n",
    "X0 = ones((len(X1),1))\n",
    "Y = np.array(df[['Outcome']])\n",
    "X=hstack((X0,X1))"
   ]
  },
  {
   "cell_type": "code",
   "execution_count": 8,
   "metadata": {},
   "outputs": [
    {
     "data": {
      "text/plain": [
       "array([[  1.   ,   6.   , 148.   , ...,  33.6  ,   0.627,  50.   ],\n",
       "       [  1.   ,   1.   ,  85.   , ...,  26.6  ,   0.351,  31.   ],\n",
       "       [  1.   ,   8.   , 183.   , ...,  23.3  ,   0.672,  32.   ],\n",
       "       ...,\n",
       "       [  1.   ,   5.   , 121.   , ...,  26.2  ,   0.245,  30.   ],\n",
       "       [  1.   ,   1.   , 126.   , ...,  30.1  ,   0.349,  47.   ],\n",
       "       [  1.   ,   1.   ,  93.   , ...,  30.4  ,   0.315,  23.   ]])"
      ]
     },
     "execution_count": 8,
     "metadata": {},
     "output_type": "execute_result"
    }
   ],
   "source": [
    "X"
   ]
  },
  {
   "cell_type": "code",
   "execution_count": 9,
   "metadata": {},
   "outputs": [],
   "source": [
    "def sigmoid(x):\n",
    "    return 1/(1+exp(-x))"
   ]
  },
  {
   "cell_type": "code",
   "execution_count": 10,
   "metadata": {},
   "outputs": [],
   "source": [
    "def perceptron_gradient(X,Y):\n",
    "    alpha =1\n",
    "    iteration =20\n",
    "    w = zeros(len(X[0]))\n",
    "    for j in range(iteration):\n",
    "        for i in range(10):\n",
    "            w=w+alpha*sigmoid(1-Y[i]*X[i].dot(w))*X[i]*Y[i]\n",
    "    return w"
   ]
  },
  {
   "cell_type": "code",
   "execution_count": 11,
   "metadata": {},
   "outputs": [
    {
     "data": {
      "text/plain": [
       "array([  0.73105858,   4.38635147, 108.19666964,  52.63621766,\n",
       "        25.58705025,   0.        ,  24.56356824,   0.45837373,\n",
       "        36.55292893])"
      ]
     },
     "execution_count": 11,
     "metadata": {},
     "output_type": "execute_result"
    }
   ],
   "source": [
    "w=perceptron_gradient(X,Y)\n",
    "w"
   ]
  },
  {
   "cell_type": "code",
   "execution_count": 12,
   "metadata": {},
   "outputs": [
    {
     "name": "stdout",
     "output_type": "stream",
     "text": [
      "0.7310585786300049 4.38635147178003 108.19666963724073 52.636217661360355 25.587050252050172 0.0 24.563568241968166 0.45837372880101307 36.55292893150025\n"
     ]
    }
   ],
   "source": [
    "w0=w[0]\n",
    "w1=w[1]\n",
    "w2=w[2]\n",
    "w3=w[3]\n",
    "w4=w[4]\n",
    "w5=w[5]\n",
    "w6=w[6]\n",
    "w7=w[7]\n",
    "w8=w[8]\n",
    "print(w0,w1,w2,w3,w4,w5,w6,w7,w8)"
   ]
  },
  {
   "cell_type": "code",
   "execution_count": 13,
   "metadata": {},
   "outputs": [
    {
     "data": {
      "text/plain": [
       "1.0"
      ]
     },
     "execution_count": 13,
     "metadata": {},
     "output_type": "execute_result"
    }
   ],
   "source": [
    "test=array([1, 0, 185, 142, 70, 85, 31, 0.35, 51])\n",
    "adjust_test = test.dot(w)\n",
    "sigmoid(adjust_test)"
   ]
  },
  {
   "cell_type": "code",
   "execution_count": null,
   "metadata": {},
   "outputs": [],
   "source": []
  },
  {
   "cell_type": "code",
   "execution_count": null,
   "metadata": {},
   "outputs": [],
   "source": []
  },
  {
   "cell_type": "markdown",
   "metadata": {},
   "source": [
    "## Question 2 : SVM"
   ]
  },
  {
   "cell_type": "code",
   "execution_count": 14,
   "metadata": {},
   "outputs": [],
   "source": [
    "def svm_gradient(X,Y):\n",
    "    alpha =1\n",
    "    iteration =20\n",
    "    w1 = zeros(len(X[0]))\n",
    "    for j in range(iteration):\n",
    "        for i in range(10):\n",
    "            w1=w1+alpha*sigmoid(1-Y[i]*X[i].dot(w1))*X[i]*Y[i]\n",
    "    return w1"
   ]
  },
  {
   "cell_type": "code",
   "execution_count": 15,
   "metadata": {},
   "outputs": [
    {
     "data": {
      "text/plain": [
       "array([  0.73105858,   4.38635147, 108.19666964,  52.63621766,\n",
       "        25.58705025,   0.        ,  24.56356824,   0.45837373,\n",
       "        36.55292893])"
      ]
     },
     "execution_count": 15,
     "metadata": {},
     "output_type": "execute_result"
    }
   ],
   "source": [
    "w1=svm_gradient(X,Y)\n",
    "w1"
   ]
  },
  {
   "cell_type": "code",
   "execution_count": 16,
   "metadata": {},
   "outputs": [
    {
     "data": {
      "text/plain": [
       "1.0"
      ]
     },
     "execution_count": 16,
     "metadata": {},
     "output_type": "execute_result"
    }
   ],
   "source": [
    "test=array([1, 0, 185, 142, 70, 85, 31, 0.35, 51])\n",
    "adjust_test = test.dot(w1)\n",
    "sigmoid(adjust_test)"
   ]
  },
  {
   "cell_type": "markdown",
   "metadata": {},
   "source": [
    "# Question 3: KNN"
   ]
  },
  {
   "cell_type": "code",
   "execution_count": 17,
   "metadata": {},
   "outputs": [],
   "source": [
    "\n",
    "from numpy import *\n",
    "import numpy as np\n",
    "import matplotlib.pyplot as plt\n",
    "%matplotlib inline\n",
    "import pandas as pd"
   ]
  },
  {
   "cell_type": "code",
   "execution_count": 18,
   "metadata": {},
   "outputs": [
    {
     "data": {
      "text/html": [
       "<div>\n",
       "<style scoped>\n",
       "    .dataframe tbody tr th:only-of-type {\n",
       "        vertical-align: middle;\n",
       "    }\n",
       "\n",
       "    .dataframe tbody tr th {\n",
       "        vertical-align: top;\n",
       "    }\n",
       "\n",
       "    .dataframe thead th {\n",
       "        text-align: right;\n",
       "    }\n",
       "</style>\n",
       "<table border=\"1\" class=\"dataframe\">\n",
       "  <thead>\n",
       "    <tr style=\"text-align: right;\">\n",
       "      <th></th>\n",
       "      <th>Diseases</th>\n",
       "      <th>Fever</th>\n",
       "      <th>Temperature</th>\n",
       "      <th>Hypertension</th>\n",
       "      <th>Blood Pressure</th>\n",
       "      <th>Tachycardia</th>\n",
       "      <th>Heart Rate</th>\n",
       "      <th>Tachypnea</th>\n",
       "      <th>Respiration Rate</th>\n",
       "      <th>Hypoxemia</th>\n",
       "      <th>SPO2</th>\n",
       "      <th>Headeach</th>\n",
       "      <th>Pain Area</th>\n",
       "      <th>Nausea</th>\n",
       "      <th>GastroInstestinal</th>\n",
       "    </tr>\n",
       "  </thead>\n",
       "  <tbody>\n",
       "    <tr>\n",
       "      <th>0</th>\n",
       "      <td>Hypothermia</td>\n",
       "      <td>0</td>\n",
       "      <td>-1</td>\n",
       "      <td>0</td>\n",
       "      <td>0.0</td>\n",
       "      <td>0</td>\n",
       "      <td>0</td>\n",
       "      <td>0</td>\n",
       "      <td>0</td>\n",
       "      <td>0</td>\n",
       "      <td>0</td>\n",
       "      <td>0</td>\n",
       "      <td>0</td>\n",
       "      <td>0</td>\n",
       "      <td>0</td>\n",
       "    </tr>\n",
       "    <tr>\n",
       "      <th>1</th>\n",
       "      <td>Hyperthermia</td>\n",
       "      <td>1</td>\n",
       "      <td>2</td>\n",
       "      <td>0</td>\n",
       "      <td>0.0</td>\n",
       "      <td>0</td>\n",
       "      <td>0</td>\n",
       "      <td>0</td>\n",
       "      <td>0</td>\n",
       "      <td>0</td>\n",
       "      <td>0</td>\n",
       "      <td>0</td>\n",
       "      <td>0</td>\n",
       "      <td>0</td>\n",
       "      <td>0</td>\n",
       "    </tr>\n",
       "    <tr>\n",
       "      <th>2</th>\n",
       "      <td>Hypotension</td>\n",
       "      <td>0</td>\n",
       "      <td>0</td>\n",
       "      <td>0</td>\n",
       "      <td>-1.0</td>\n",
       "      <td>0</td>\n",
       "      <td>0</td>\n",
       "      <td>0</td>\n",
       "      <td>0</td>\n",
       "      <td>0</td>\n",
       "      <td>0</td>\n",
       "      <td>0</td>\n",
       "      <td>0</td>\n",
       "      <td>0</td>\n",
       "      <td>0</td>\n",
       "    </tr>\n",
       "    <tr>\n",
       "      <th>3</th>\n",
       "      <td>Prehypertension</td>\n",
       "      <td>0</td>\n",
       "      <td>0</td>\n",
       "      <td>1</td>\n",
       "      <td>0.5</td>\n",
       "      <td>0</td>\n",
       "      <td>0</td>\n",
       "      <td>0</td>\n",
       "      <td>0</td>\n",
       "      <td>0</td>\n",
       "      <td>0</td>\n",
       "      <td>0</td>\n",
       "      <td>0</td>\n",
       "      <td>0</td>\n",
       "      <td>0</td>\n",
       "    </tr>\n",
       "    <tr>\n",
       "      <th>4</th>\n",
       "      <td>Hypertension</td>\n",
       "      <td>0</td>\n",
       "      <td>0</td>\n",
       "      <td>1</td>\n",
       "      <td>1.0</td>\n",
       "      <td>0</td>\n",
       "      <td>0</td>\n",
       "      <td>0</td>\n",
       "      <td>0</td>\n",
       "      <td>0</td>\n",
       "      <td>0</td>\n",
       "      <td>0</td>\n",
       "      <td>0</td>\n",
       "      <td>0</td>\n",
       "      <td>0</td>\n",
       "    </tr>\n",
       "  </tbody>\n",
       "</table>\n",
       "</div>"
      ],
      "text/plain": [
       "          Diseases  Fever  Temperature  Hypertension  Blood Pressure  \\\n",
       "0      Hypothermia      0           -1             0             0.0   \n",
       "1     Hyperthermia      1            2             0             0.0   \n",
       "2      Hypotension      0            0             0            -1.0   \n",
       "3  Prehypertension      0            0             1             0.5   \n",
       "4     Hypertension      0            0             1             1.0   \n",
       "\n",
       "   Tachycardia  Heart Rate  Tachypnea  Respiration Rate  Hypoxemia  SPO2  \\\n",
       "0            0           0          0                 0          0     0   \n",
       "1            0           0          0                 0          0     0   \n",
       "2            0           0          0                 0          0     0   \n",
       "3            0           0          0                 0          0     0   \n",
       "4            0           0          0                 0          0     0   \n",
       "\n",
       "   Headeach  Pain Area  Nausea  GastroInstestinal   \n",
       "0         0          0       0                   0  \n",
       "1         0          0       0                   0  \n",
       "2         0          0       0                   0  \n",
       "3         0          0       0                   0  \n",
       "4         0          0       0                   0  "
      ]
     },
     "execution_count": 18,
     "metadata": {},
     "output_type": "execute_result"
    }
   ],
   "source": [
    "df_knn = pd.read_csv(\"diseases_matrix_KNN.csv\")\n",
    "df_knn.head()"
   ]
  },
  {
   "cell_type": "code",
   "execution_count": 19,
   "metadata": {},
   "outputs": [
    {
     "data": {
      "text/plain": [
       "2.6457513110645907"
      ]
     },
     "execution_count": 19,
     "metadata": {},
     "output_type": "execute_result"
    }
   ],
   "source": [
    "from numpy import linalg as LA\n",
    "x = [1, 0, 1, 1, 0, 0, 0, 1, 1, 0, 0, 1, 1, 1]\n",
    "xx = LA.norm(x[1:])\n",
    "xx"
   ]
  },
  {
   "cell_type": "code",
   "execution_count": 20,
   "metadata": {},
   "outputs": [],
   "source": [
    "from numpy import linalg as LA\n",
    "def my_knn(x,df,k):\n",
    "    w=[]\n",
    "    num_red,num_blue=0,0\n",
    "    winner=''\n",
    "    for i in range(len(df)):\n",
    "        coor=df.iloc[i]\n",
    "        #print(coor[0])\n",
    "        d = np.sqrt(np.sum(np.subtract(x , coor[1:]).values**2) )\n",
    "        d = np.dot(1/np.pi,np.arccos(np.divide(np.prod(coor[1:]),LA.norm(coor[1:]))))\n",
    "        w.append(d)\n",
    "        w_sorted =argsort(w)[0:k]\n",
    "        for i in range(len(w_sorted)):\n",
    "            if(df.iloc[w_sorted[i]][2]=='red'):\n",
    "                num_red+=1\n",
    "            else:\n",
    "                num_blue+=1\n",
    "                p_red=num_red/len(w_sorted)\n",
    "                p_blue=num_blue/len(w_sorted)  \n",
    "                if (p_red>p_blue):\n",
    "                    winner='red'\n",
    "                elif (p_blue>p_red):\n",
    "                    winner='blue'\n",
    "                else:\n",
    "                    print('there is tie')\n",
    "    return winner"
   ]
  },
  {
   "cell_type": "markdown",
   "metadata": {},
   "source": [
    "# 3 (a)"
   ]
  },
  {
   "cell_type": "code",
   "execution_count": 21,
   "metadata": {},
   "outputs": [
    {
     "data": {
      "text/plain": [
       "'blue'"
      ]
     },
     "execution_count": 21,
     "metadata": {},
     "output_type": "execute_result"
    }
   ],
   "source": [
    "x = np.array([1, 0, 1, 1, 0, 0, 0, 1, 1, 0, 0, 1, 1, 1])\n",
    "my_knn(x,df_knn,4)"
   ]
  },
  {
   "cell_type": "markdown",
   "metadata": {},
   "source": [
    "# 3 (b)"
   ]
  },
  {
   "cell_type": "code",
   "execution_count": 22,
   "metadata": {
    "scrolled": true
   },
   "outputs": [
    {
     "data": {
      "text/plain": [
       "'blue'"
      ]
     },
     "execution_count": 22,
     "metadata": {},
     "output_type": "execute_result"
    }
   ],
   "source": [
    "x1 = np.array([1, 0, 2, 0, 0, 1, 1, 0, 1, 0, 0, 1, 0, 2])\n",
    "my_knn(x1,df_knn,4)"
   ]
  },
  {
   "cell_type": "markdown",
   "metadata": {},
   "source": [
    "# 3 (c)"
   ]
  },
  {
   "cell_type": "code",
   "execution_count": 23,
   "metadata": {},
   "outputs": [
    {
     "data": {
      "text/plain": [
       "'blue'"
      ]
     },
     "execution_count": 23,
     "metadata": {},
     "output_type": "execute_result"
    }
   ],
   "source": [
    "x2 = np.array([1, 0, 1, 0, 0, 0, 1, 0, 1, 0, 1, 1, 0, 1])\n",
    "my_knn(x2,df_knn,4)"
   ]
  },
  {
   "cell_type": "markdown",
   "metadata": {},
   "source": [
    "# Question 4 Naive-Bayes"
   ]
  },
  {
   "cell_type": "code",
   "execution_count": 24,
   "metadata": {},
   "outputs": [],
   "source": [
    "df_nb=pd.read_csv('Restaurant_reviews_Naive_Bayes.csv')"
   ]
  },
  {
   "cell_type": "code",
   "execution_count": 25,
   "metadata": {},
   "outputs": [
    {
     "data": {
      "text/html": [
       "<div>\n",
       "<style scoped>\n",
       "    .dataframe tbody tr th:only-of-type {\n",
       "        vertical-align: middle;\n",
       "    }\n",
       "\n",
       "    .dataframe tbody tr th {\n",
       "        vertical-align: top;\n",
       "    }\n",
       "\n",
       "    .dataframe thead th {\n",
       "        text-align: right;\n",
       "    }\n",
       "</style>\n",
       "<table border=\"1\" class=\"dataframe\">\n",
       "  <thead>\n",
       "    <tr style=\"text-align: right;\">\n",
       "      <th></th>\n",
       "      <th>Reviews</th>\n",
       "      <th>Labels</th>\n",
       "    </tr>\n",
       "  </thead>\n",
       "  <tbody>\n",
       "    <tr>\n",
       "      <th>0</th>\n",
       "      <td>Most disgusting food I have ever had</td>\n",
       "      <td>Negative</td>\n",
       "    </tr>\n",
       "    <tr>\n",
       "      <th>1</th>\n",
       "      <td>Stay away, very disgusting food</td>\n",
       "      <td>Negative</td>\n",
       "    </tr>\n",
       "    <tr>\n",
       "      <th>2</th>\n",
       "      <td>Menu is absolutely perfect, loved it!</td>\n",
       "      <td>Positive</td>\n",
       "    </tr>\n",
       "    <tr>\n",
       "      <th>3</th>\n",
       "      <td>A really good value for the money</td>\n",
       "      <td>Positive</td>\n",
       "    </tr>\n",
       "    <tr>\n",
       "      <th>4</th>\n",
       "      <td>This is a very good restaurant</td>\n",
       "      <td>Positive</td>\n",
       "    </tr>\n",
       "  </tbody>\n",
       "</table>\n",
       "</div>"
      ],
      "text/plain": [
       "                                 Reviews    Labels\n",
       "0   Most disgusting food I have ever had  Negative\n",
       "1        Stay away, very disgusting food  Negative\n",
       "2  Menu is absolutely perfect, loved it!  Positive\n",
       "3      A really good value for the money  Positive\n",
       "4         This is a very good restaurant  Positive"
      ]
     },
     "execution_count": 25,
     "metadata": {},
     "output_type": "execute_result"
    }
   ],
   "source": [
    "df_nb.head()"
   ]
  },
  {
   "cell_type": "code",
   "execution_count": 26,
   "metadata": {},
   "outputs": [],
   "source": [
    "def my_naive_bayes(data, attributes, target):\n",
    "    \n",
    "    x=['This was great and not terrible']\n",
    "    \n",
    "    def proba(arr,z):\n",
    "        num_z=0\n",
    "        for outcome in arr:\n",
    "            if(outcome==z):\n",
    "                num_z+=1\n",
    "        return (num_z+1)/(num_z+len(arr)+1)\n",
    "    class_value = unique(data[target])\n",
    "    def conditional_proba(data, attribute, target, class_value, xi):\n",
    "        arr = data[data[target]==class_value][attribute]\n",
    "        num_xi=0\n",
    "        for outcome in arr:\n",
    "            if (outcome==xi):\n",
    "                num_xi+=1\n",
    "        return (num_xi+1)/(num_xi+len(arr)+1)\n",
    "    \n",
    "    class_values = unique(data[target])\n",
    "    \n",
    "    \n",
    "    w =[]\n",
    "    \n",
    "    for j in range(len(class_value)):\n",
    "        product_cond_proba_given_class =1\n",
    "        print(class_value[j])\n",
    "        proba_for_class = proba(data[target], class_value[j])\n",
    "        \n",
    "        print ('P(CD='+class_values[j]+')=', proba_for_class)\n",
    "        for i in range(len(attributes)):\n",
    "            \n",
    "            cond_proba = conditional_proba(data, attributes[i], target, class_value[j], x[i])\n",
    "            print('P('+attributes[i]+'='+x[i]+'|CD='+class_value[j]+')', cond_proba)\n",
    "            product_cond_proba_given_class*=cond_proba\n",
    "            Proba_for_class_given_x=proba_for_class*product_cond_proba_given_class\n",
    "        w.append(Proba_for_class_given_x)\n",
    "        print('P(CD='+class_value[j]+'|x=', Proba_for_class_given_x)\n",
    "    print('\\n\\nThe Predicted lass is')\n",
    "    \n",
    "    return class_value[argmax(w)]"
   ]
  },
  {
   "cell_type": "code",
   "execution_count": 27,
   "metadata": {},
   "outputs": [
    {
     "name": "stdout",
     "output_type": "stream",
     "text": [
      "Negative\n",
      "P(CD=Negative)= 0.2857142857142857\n",
      "P(Reviews=This was great and not terrible|CD=Negative) 0.16666666666666666\n",
      "P(CD=Negative|x= 0.047619047619047616\n",
      "Positive\n",
      "P(CD=Positive)= 0.4230769230769231\n",
      "P(Reviews=This was great and not terrible|CD=Positive) 0.09090909090909091\n",
      "P(CD=Positive|x= 0.038461538461538464\n",
      "\n",
      "\n",
      "The Predicted lass is\n"
     ]
    },
    {
     "data": {
      "text/plain": [
       "'Negative'"
      ]
     },
     "execution_count": 27,
     "metadata": {},
     "output_type": "execute_result"
    }
   ],
   "source": [
    "my_naive_bayes(df_nb,['Reviews'],'Labels')"
   ]
  }
 ],
 "metadata": {
  "kernelspec": {
   "display_name": "Python 3",
   "language": "python",
   "name": "python3"
  },
  "language_info": {
   "codemirror_mode": {
    "name": "ipython",
    "version": 3
   },
   "file_extension": ".py",
   "mimetype": "text/x-python",
   "name": "python",
   "nbconvert_exporter": "python",
   "pygments_lexer": "ipython3",
   "version": "3.7.1"
  }
 },
 "nbformat": 4,
 "nbformat_minor": 2
}
